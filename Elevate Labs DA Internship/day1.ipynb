{
 "cells": [
  {
   "cell_type": "code",
   "execution_count": 2,
   "id": "d98d6dd6",
   "metadata": {},
   "outputs": [],
   "source": [
    "import pandas as pd\n",
    "import seaborn as sns\n",
    "import numpy as np\n",
    "\n",
    "# Load Titanic dataset\n",
    "df = sns.load_dataset('titanic')"
   ]
  },
  {
   "cell_type": "code",
   "execution_count": 3,
   "id": "524022b9",
   "metadata": {},
   "outputs": [
    {
     "name": "stdout",
     "output_type": "stream",
     "text": [
      "Missing values before:\n",
      "survived         0\n",
      "pclass           0\n",
      "sex              0\n",
      "age            177\n",
      "sibsp            0\n",
      "parch            0\n",
      "fare             0\n",
      "embarked         2\n",
      "class            0\n",
      "who              0\n",
      "adult_male       0\n",
      "deck           688\n",
      "embark_town      2\n",
      "alive            0\n",
      "alone            0\n",
      "dtype: int64\n"
     ]
    }
   ],
   "source": [
    "# ---------------- 1. Identify and handle missing values ----------------\n",
    "print(\"Missing values before:\")\n",
    "print(df.isnull().sum())"
   ]
  },
  {
   "cell_type": "code",
   "execution_count": 6,
   "id": "cab139e2",
   "metadata": {},
   "outputs": [
    {
     "name": "stderr",
     "output_type": "stream",
     "text": [
      "C:\\Users\\hussa\\AppData\\Local\\Temp\\ipykernel_14492\\4184475689.py:2: FutureWarning: A value is trying to be set on a copy of a DataFrame or Series through chained assignment using an inplace method.\n",
      "The behavior will change in pandas 3.0. This inplace method will never work because the intermediate object on which we are setting values always behaves as a copy.\n",
      "\n",
      "For example, when doing 'df[col].method(value, inplace=True)', try using 'df.method({col: value}, inplace=True)' or df[col] = df[col].method(value) instead, to perform the operation inplace on the original object.\n",
      "\n",
      "\n",
      "  df['age'].fillna(df['age'].median(), inplace=True)\n"
     ]
    }
   ],
   "source": [
    "# Fill missing age with median, embarked with mode, deck with \"Unknown\"\n",
    "df['age'].fillna(df['age'].median(), inplace=True)\n",
    "df['embarked'].fillna(df['embarked'].mode()[0], inplace=True)\n",
    "df['embark_town'].fillna('Unknown', inplace=True)"
   ]
  },
  {
   "cell_type": "code",
   "execution_count": 7,
   "id": "f15369b6",
   "metadata": {},
   "outputs": [],
   "source": [
    "# ---------------- 2. Remove duplicate rows ----------------\n",
    "df.drop_duplicates(inplace=True)\n"
   ]
  },
  {
   "cell_type": "code",
   "execution_count": 8,
   "id": "f44016bb",
   "metadata": {},
   "outputs": [],
   "source": [
    "# ---------------- 3. Standardize text values ----------------\n",
    "# Example: make 'sex' and 'embarked' lowercase\n",
    "df['sex'] = df['sex'].str.lower()\n",
    "df['embarked'] = df['embarked'].str.upper()"
   ]
  },
  {
   "cell_type": "code",
   "execution_count": 9,
   "id": "20d6cb27",
   "metadata": {},
   "outputs": [],
   "source": [
    "# Standardizing 'embark_town' values\n",
    "df['embark_town'] = df['embark_town'].replace({\n",
    "    'Southampton': 'southampton',\n",
    "    'Cherbourg': 'cherbourg',\n",
    "    'Queenstown': 'queenstown',\n",
    "    'Unknown': 'unknown'\n",
    "})"
   ]
  },
  {
   "cell_type": "code",
   "execution_count": 10,
   "id": "ffd5a793",
   "metadata": {},
   "outputs": [],
   "source": [
    "# ---------------- 4. Convert date formats ----------------\n",
    "# Simulate a date column for demo purposes\n",
    "df['fake_dob'] = pd.to_datetime('1900-01-01') + pd.to_timedelta(np.random.randint(0, 30000, size=len(df)), unit='D')\n",
    "\n",
    "# Convert date format to dd-mm-yyyy string format\n",
    "df['fake_dob'] = df['fake_dob'].dt.strftime('%d-%m-%Y')"
   ]
  },
  {
   "cell_type": "code",
   "execution_count": 11,
   "id": "3d92fc57",
   "metadata": {},
   "outputs": [],
   "source": [
    "# ---------------- 5. Rename column headers ----------------\n",
    "df.columns = df.columns.str.strip().str.lower().str.replace(' ', '_')\n",
    "\n",
    "# ---------------- 6. Check and fix data types ----------------\n",
    "# Age should be int\n",
    "df['age'] = df['age'].astype(int)"
   ]
  },
  {
   "cell_type": "code",
   "execution_count": 12,
   "id": "7653712a",
   "metadata": {},
   "outputs": [],
   "source": [
    "# Convert fake_dob back to datetime\n",
    "df['fake_dob'] = pd.to_datetime(df['fake_dob'], format='%d-%m-%Y')"
   ]
  },
  {
   "cell_type": "code",
   "execution_count": 13,
   "id": "09a2064e",
   "metadata": {},
   "outputs": [
    {
     "name": "stdout",
     "output_type": "stream",
     "text": [
      "\n",
      "Cleaned DataFrame Head:\n",
      "   survived  pclass     sex  age  sibsp  parch     fare embarked  class  \\\n",
      "0         0       3    male   22      1      0   7.2500        S  Third   \n",
      "1         1       1  female   38      1      0  71.2833        C  First   \n",
      "2         1       3  female   26      0      0   7.9250        S  Third   \n",
      "3         1       1  female   35      1      0  53.1000        S  First   \n",
      "4         0       3    male   35      0      0   8.0500        S  Third   \n",
      "\n",
      "     who  adult_male deck  embark_town alive  alone   fake_dob  \n",
      "0    man        True  NaN  southampton    no  False 1944-10-23  \n",
      "1  woman       False    C    cherbourg   yes  False 1956-03-05  \n",
      "2  woman       False  NaN  southampton   yes   True 1946-09-09  \n",
      "3  woman       False    C  southampton   yes  False 1923-06-10  \n",
      "4    man        True  NaN  southampton    no   True 1957-05-16  \n"
     ]
    }
   ],
   "source": [
    "# Final dataset preview\n",
    "print(\"\\nCleaned DataFrame Head:\")\n",
    "print(df.head())"
   ]
  },
  {
   "cell_type": "code",
   "execution_count": 14,
   "id": "e36a5485",
   "metadata": {},
   "outputs": [
    {
     "name": "stdout",
     "output_type": "stream",
     "text": [
      "\n",
      "Data types after cleaning:\n",
      "survived                int64\n",
      "pclass                  int64\n",
      "sex                    object\n",
      "age                     int32\n",
      "sibsp                   int64\n",
      "parch                   int64\n",
      "fare                  float64\n",
      "embarked               object\n",
      "class                category\n",
      "who                    object\n",
      "adult_male               bool\n",
      "deck                 category\n",
      "embark_town            object\n",
      "alive                  object\n",
      "alone                    bool\n",
      "fake_dob       datetime64[ns]\n",
      "dtype: object\n"
     ]
    }
   ],
   "source": [
    "print(\"\\nData types after cleaning:\")\n",
    "print(df.dtypes)"
   ]
  }
 ],
 "metadata": {
  "kernelspec": {
   "display_name": "Python 3",
   "language": "python",
   "name": "python3"
  },
  "language_info": {
   "codemirror_mode": {
    "name": "ipython",
    "version": 3
   },
   "file_extension": ".py",
   "mimetype": "text/x-python",
   "name": "python",
   "nbconvert_exporter": "python",
   "pygments_lexer": "ipython3",
   "version": "3.11.5"
  }
 },
 "nbformat": 4,
 "nbformat_minor": 5
}
